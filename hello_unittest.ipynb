{
 "cells": [
  {
   "cell_type": "markdown",
   "metadata": {},
   "source": [
    "# unittest\n",
    "\n",
    "https://docs.python.org/ja/3.7/library/unittest.html\n",
    "\n",
    "簡単なユニットテストの例を紹介します。\n",
    "\n",
    "Jupyter notebook 上ではうまいこと動かないようなので、各自で手元のソースにコピペしてみてください"
   ]
  },
  {
   "cell_type": "markdown",
   "metadata": {},
   "source": [
    "## assertion"
   ]
  },
  {
   "cell_type": "code",
   "execution_count": 4,
   "metadata": {},
   "outputs": [],
   "source": [
    "# stringutil.py\n",
    "\n",
    "# 機能コード\n",
    "def to_upper(s: str):\n",
    "    \"\"\"文字列を大文字に変換して返す関数\n",
    "    \"\"\"\n",
    "    return s.upper()\n",
    "\n",
    "\n",
    "def to_lower(s: str):\n",
    "    \"\"\"文字列を大文字に変換して返す関数\n",
    "    \"\"\"\n",
    "    return s.lower()"
   ]
  },
  {
   "cell_type": "code",
   "execution_count": 6,
   "metadata": {},
   "outputs": [
    {
     "name": "stdout",
     "output_type": "stream",
     "text": [
      "to_upper: ABCDEFG\n",
      "to_lower: abcdefg\n"
     ]
    }
   ],
   "source": [
    "# 実行してみる\n",
    "input_string = 'abcDEfg'\n",
    "\n",
    "print('to_upper: ' + to_upper(input_string))\n",
    "print('to_lower: ' + to_lower(input_string))"
   ]
  },
  {
   "cell_type": "code",
   "execution_count": 8,
   "metadata": {},
   "outputs": [
    {
     "ename": "AssertionError",
     "evalue": "",
     "output_type": "error",
     "traceback": [
      "\u001b[0;31m---------------------------------------------------------------------------\u001b[0m",
      "\u001b[0;31mAssertionError\u001b[0m                            Traceback (most recent call last)",
      "\u001b[0;32m<ipython-input-8-50e88364fa4a>\u001b[0m in \u001b[0;36m<module>\u001b[0;34m\u001b[0m\n\u001b[1;32m      7\u001b[0m \u001b[0;34m\u001b[0m\u001b[0m\n\u001b[1;32m      8\u001b[0m \u001b[0;31m# 失敗した場合は AssertionError となる\u001b[0m\u001b[0;34m\u001b[0m\u001b[0;34m\u001b[0m\u001b[0;34m\u001b[0m\u001b[0m\n\u001b[0;32m----> 9\u001b[0;31m \u001b[0;32massert\u001b[0m \u001b[0;34m'abcdefg'\u001b[0m \u001b[0;34m==\u001b[0m \u001b[0mto_upper\u001b[0m\u001b[0;34m(\u001b[0m\u001b[0mtest_input\u001b[0m\u001b[0;34m)\u001b[0m\u001b[0;34m\u001b[0m\u001b[0;34m\u001b[0m\u001b[0m\n\u001b[0m",
      "\u001b[0;31mAssertionError\u001b[0m: "
     ]
    }
   ],
   "source": [
    "# test_stringutil.py\n",
    "# python -m unittest で実行できます。\n",
    "\n",
    "# テスト\n",
    "test_input =  'abcDEfg'\n",
    "expect_value =  'ABCDEFG'\n",
    "\n",
    "# 成功する場合は何も出力されない\n",
    "assert expect_value == to_upper(test_input)\n",
    "\n",
    "# 失敗した場合は AssertionError となる\n",
    "assert 'abcdefg' == to_upper(test_input)"
   ]
  },
  {
   "cell_type": "code",
   "execution_count": 14,
   "metadata": {},
   "outputs": [],
   "source": [
    "# test_stringutil.py - unittest を使ったパターン\n",
    "\n",
    "import unittest\n",
    "\n",
    "class TestStringUtil(unittest.TestCase):\n",
    "    \"\"\"\n",
    "    TestCase を継承したクラスでは、assrertXXXX メソッドが使えるようになる。\n",
    "    これを各テストケースの中でアサーションとして用いる。\n",
    "    \n",
    "    StringUtil というクラス名は適当に付けましたが Util って名前は意味が汎用すぎるので本当はあまり良くないです。\n",
    "    文字列操作するためのモジュール (= ファイル) を作り、そのモジュール名をキャメルケースにしてクラス名に入れてあげると良いと思います\n",
    "    \"\"\"\n",
    "    def test_upper(self):\n",
    "        test_input =  'abcDEfg'\n",
    "        expect_value =  'ABCDEFG'\n",
    "        self.assertEqual(expect_valuevalue, to_upper(test_input))\n",
    "\n",
    "    def test_lowwer(self):\n",
    "        test_input =  'abcDEfg'\n",
    "        expect_value =  'abcdefg'\n",
    "        self.assertEqual(expect_valuevalue, to_lower(test_input))"
   ]
  },
  {
   "cell_type": "markdown",
   "metadata": {},
   "source": [
    "テスト実行\n",
    "\n",
    "> python -m unittest\n",
    "\n",
    "デフォルトでは、 unittest モジュールは test_xx.py というファイルを検索し、そこに含まれる test_xxx() という命名のメソッドをテスト対象として実行します。"
   ]
  },
  {
   "cell_type": "code",
   "execution_count": null,
   "metadata": {},
   "outputs": [],
   "source": []
  }
 ],
 "metadata": {
  "kernelspec": {
   "display_name": "Python 3",
   "language": "python",
   "name": "python3"
  },
  "language_info": {
   "codemirror_mode": {
    "name": "ipython",
    "version": 3
   },
   "file_extension": ".py",
   "mimetype": "text/x-python",
   "name": "python",
   "nbconvert_exporter": "python",
   "pygments_lexer": "ipython3",
   "version": "3.7.4"
  }
 },
 "nbformat": 4,
 "nbformat_minor": 2
}
